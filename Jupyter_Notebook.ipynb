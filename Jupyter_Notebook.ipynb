{
 "cells": [
  {
   "cell_type": "markdown",
   "metadata": {},
   "source": [
    "<center>\n",
    "    <img src=\"https://cf-courses-data.s3.us.cloud-object-storage.appdomain.cloud/IBMDeveloperSkillsNetwork-DS0105EN-SkillsNetwork/labs/Module2/images/SN_web_lightmode.png\" width=\"300\" alt=\"cognitiveclass.ai logo\">\n",
    "</center>\n"
   ]
  },
  {
   "cell_type": "markdown",
   "metadata": {},
   "source": [
    "#### Add your code below following the instructions given in the course\n"
   ]
  },
  {
   "cell_type": "markdown",
   "metadata": {},
   "source": [
    "### Welcome to this interactive notebook! In this session, we will cover various topics and examples to help you understand key concepts in Python and data science."
   ]
  },
  {
   "cell_type": "markdown",
   "metadata": {},
   "source": [
    "Welcome to this notebook! In this session, we will explore various Python concepts and tools essential for data science. Whether you are a beginner or looking to refine your skills, this notebook will guide you through essential operations, from basic arithmetic to more advanced topics like data manipulation and machine learning.\n",
    "\n",
    "By the end of this notebook, you will have a stronger foundation in Python programming and be able to apply your knowledge to real-world projects. Let's dive in and start learning! "
   ]
  },
  {
   "cell_type": "markdown",
   "metadata": {},
   "source": [
    "+ Python\n",
    "+ R\n",
    "+ SQL"
   ]
  },
  {
   "cell_type": "markdown",
   "metadata": {},
   "source": [
    "Data Science Libraries\n",
    "\n",
    "- Tensorflow\n",
    "- Pytorch"
   ]
  },
  {
   "cell_type": "markdown",
   "metadata": {},
   "source": [
    "| Catégorie                    | Outils principaux                                    |\n",
    "|-------------------------------|------------------------------------------------------|\n",
    "| **Langages de programmation** | Python, R, SQL                                       |\n",
    "| **Environnements**            | Jupyter Notebook, Google Colab, VS Code, RStudio     |\n",
    "| **Manipulation des données**  | Pandas, NumPy, Dask, Apache Spark                    |\n",
    "| **Visualisation**             | Matplotlib, Seaborn, Plotly, ggplot2, Power BI       |\n",
    "| **Machine Learning**          | Scikit-learn, TensorFlow, PyTorch, XGBoost, LightGBM |\n",
    "| **NLP**                       | NLTK, spaCy, Transformers (Hugging Face)             |\n",
    "| **Big Data & Cloud**          | Apache Hadoop, Google Cloud AI, AWS Sagemaker        |\n",
    "| **Versioning & Collaboration**| Git, GitHub, DVC                                     |"
   ]
  },
  {
   "cell_type": "markdown",
   "metadata": {},
   "source": [
    "# 🧮 Arithmetic Expressions in Python\n",
    "\n",
    "Arithmetic expressions are used to perform mathematical operations such as addition, subtraction, multiplication, and division. Here are some common arithmetic operators:\n",
    "\n",
    "| Operator | Description       | Example  | Result |\n",
    "|----------|------------------|----------|--------|\n",
    "| `+`      | Addition         | `5 + 3`  | `8`    |\n",
    "| `-`      | Subtraction      | `10 - 4` | `6`    |\n",
    "| `*`      | Multiplication   | `6 * 2`  | `12`   |\n",
    "| `/`      | Division         | `9 / 3`  | `3.0`  |\n",
    "| `//`     | Floor Division   | `10 // 3`| `3`    |\n",
    "| `%`      | Modulus (Remainder) | `10 % 3` | `1`    |\n",
    "| `**`     | Exponentiation   | `2 ** 3` | `8`    |\n",
    "\n",
    "### Example in Python:\n",
    "```python\n",
    "a = 10\n",
    "b = 3\n",
    "\n",
    "print(\"Addition:\", a + b)        \n",
    "print(\"Subtraction:\", a - b)     \n",
    "print(\"Multiplication:\", a * b)  \n",
    "print(\"Division:\", a / b)        \n",
    "print(\"Floor Division:\", a // b) \n",
    "print(\"Modulus:\", a % b)         \n",
    "print(\"Exponentiation:\", a ** b) \n"
   ]
  },
  {
   "cell_type": "code",
   "execution_count": 10,
   "metadata": {},
   "outputs": [
    {
     "name": "stdout",
     "output_type": "stream",
     "text": [
      "Multiplication: 15\n",
      "Addition: 8\n"
     ]
    }
   ],
   "source": [
    "# Multiplication and Addition in Python\n",
    "a = 5\n",
    "b = 3\n",
    "\n",
    "multiplication = a * b\n",
    "addition = a + b\n",
    "\n",
    "print(\"Multiplication:\", multiplication)\n",
    "print(\"Addition:\", addition)"
   ]
  },
  {
   "cell_type": "code",
   "execution_count": 11,
   "metadata": {},
   "outputs": [
    {
     "name": "stdout",
     "output_type": "stream",
     "text": [
      "150 minutes is equal to 2.50 hours\n"
     ]
    }
   ],
   "source": [
    "minutes = 150\n",
    "\n",
    "hours = minutes / 60\n",
    "\n",
    "print(f\"{minutes} minutes is equal to {hours:.2f} hours\")"
   ]
  },
  {
   "cell_type": "markdown",
   "metadata": {},
   "source": [
    "# 🎯 Objectives\n",
    "\n",
    "The following objectives will be covered in this session:\n",
    "\n",
    "- Understand basic arithmetic expressions in Python.\n",
    "- Perform multiplication and addition operations.\n",
    "- Convert minutes into hours using Python.\n",
    "- Learn how to use Markdown and code cells in Jupyter Notebook.\n",
    "\n",
    "By the end of this session, you will be able to write and execute simple Python scripts effectively! 🚀"
   ]
  },
  {
   "cell_type": "markdown",
   "metadata": {},
   "source": [
    "# ✍️ Author\n",
    "\n",
    "This notebook was created by:\n",
    "\n",
    "**Baron**\n",
    "\n",
    "Feel free to reach out for any questions or feedback! 📩"
   ]
  },
  {
   "cell_type": "code",
   "execution_count": null,
   "metadata": {},
   "outputs": [],
   "source": []
  }
 ],
 "metadata": {
  "kernelspec": {
   "display_name": "Python 3 (ipykernel)",
   "language": "python",
   "name": "python3"
  },
  "language_info": {
   "codemirror_mode": {
    "name": "ipython",
    "version": 3
   },
   "file_extension": ".py",
   "mimetype": "text/x-python",
   "name": "python",
   "nbconvert_exporter": "python",
   "pygments_lexer": "ipython3",
   "version": "3.12.8"
  }
 },
 "nbformat": 4,
 "nbformat_minor": 4
}
